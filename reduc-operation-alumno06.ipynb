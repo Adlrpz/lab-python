{
 "cells": [
  {
   "cell_type": "markdown",
   "id": "f942d288-be01-42cd-9b84-83529c6769be",
   "metadata": {},
   "source": [
    "### Reduction operation: the sum of the numbers in the range [0, a)"
   ]
  },
  {
   "cell_type": "code",
   "execution_count": 3,
   "id": "496946fa-2a28-4c1d-8a6a-2ee0b8fd8ced",
   "metadata": {},
   "outputs": [
    {
     "name": "stdout",
     "output_type": "stream",
     "text": [
      "Time taken by reduction operation: 0.2796769142150879 seconds\n",
      "253 ms ± 3.76 ms per loop (mean ± std. dev. of 2 runs, 1 loop each)\n",
      "\n",
      " \t Computing the sum of numbers in the range [0, value): 499999500000\n",
      "\n"
     ]
    }
   ],
   "source": [
    "import time\n",
    "import sys\n",
    "\n",
    "def reduc_operation(a):\n",
    "    \"\"\"Compute the sum of the numbers in the range [0, a).\"\"\"\n",
    "    x = 0\n",
    "    for i in range(a):\n",
    "        x += i\n",
    "    return x\n",
    "\n",
    "# Secuencial\n",
    "\n",
    "N = 1000000\n",
    "#N = int(sys.argv[1])\n",
    "\n",
    "initialTime = time.time()\n",
    "suma = reduc_operation(N)\n",
    "finalTime = time.time()\n",
    "\n",
    "print(\"Time taken by reduction operation:\", (finalTime - initialTime), \"seconds\")\n",
    "\n",
    "# Utilizando las operaciones mágicas de ipython\n",
    "%timeit -r 2 reduc_operation(N)\n",
    "\n",
    "print(f\"\\n \\t Computing the sum of numbers in the range [0, value): {suma}\\n\")"
   ]
  },
  {
   "cell_type": "markdown",
   "id": "6ef94393-3a0a-475c-9c33-65acf01de7ca",
   "metadata": {},
   "source": [
    "### Apartado 3.2 a)"
   ]
  },
  {
   "cell_type": "markdown",
   "id": "d062826a-8a6b-441f-876e-0a3547cef2f9",
   "metadata": {},
   "source": [
    "Ver el tiempo que se tarda en sumar todos los elementos de la lista usando bucles for y usando la funcion sum"
   ]
  },
  {
   "cell_type": "code",
   "execution_count": 4,
   "id": "bb3907e0-7077-444c-ba2e-3cfb157512b6",
   "metadata": {},
   "outputs": [
    {
     "name": "stdout",
     "output_type": "stream",
     "text": [
      "Time of the sum of a list of numbers using a for loop measured with time.time and %timeit:\n",
      "Time taken using a for loop: 0.19855070114135742 seconds\n",
      "231 ms ± 6.67 ms per loop (mean ± std. dev. of 2 runs, 1 loop each)\n",
      "Time of the sum of a list of numbers using sum() measured with time.time and %timeit:\n",
      "Time taken using sum: 0.03517627716064453 seconds\n",
      "30.7 ms ± 629 µs per loop (mean ± std. dev. of 2 runs, 10 loops each)\n"
     ]
    }
   ],
   "source": [
    "# Primero importamos las librerias necesarias\n",
    "import time\n",
    "import sys\n",
    "\n",
    "# Definimos una funcion que sume los elementos de la lista \n",
    "def suma_con_for(lista):\n",
    "    total_suma=0\n",
    "    for i in lista:\n",
    "        total_suma+=i\n",
    "    return total_suma\n",
    "\n",
    "# Definimos una funcion que sume los elementos de una lista con sum\n",
    "def suma_con_sum(lista):\n",
    "    total_sum=sum(lista)\n",
    "    return total_sum\n",
    "\n",
    "# Defino el numero \n",
    "N=1000000\n",
    "#N = int(sys.argv[1])\n",
    "lista=list(range(N))\n",
    "\n",
    "# Calculo los tiempos \n",
    "print(\"Time of the sum of a list of numbers using a for loop measured with time.time and %timeit:\")\n",
    "initialTime = time.time()\n",
    "suma_con_for(lista)\n",
    "finalTime = time.time()\n",
    "print(\"Time taken using a for loop:\", (finalTime - initialTime), \"seconds\")\n",
    "# Utilizando las operaciones mágicas de ipython\n",
    "%timeit -r 2 suma_con_for(lista)\n",
    "print(\"Time of the sum of a list of numbers using sum() measured with time.time and %timeit:\")\n",
    "initialTime = time.time()\n",
    "suma_con_sum(lista)\n",
    "finalTime = time.time()\n",
    "print(\"Time taken using sum:\", (finalTime - initialTime), \"seconds\")\n",
    "%timeit -r 2 suma_con_sum(lista)\n"
   ]
  },
  {
   "cell_type": "markdown",
   "id": "8cbd24f8-d3ed-4674-827e-9b81dd52ee57",
   "metadata": {},
   "source": [
    "### Apartado 3.2 b)"
   ]
  },
  {
   "cell_type": "markdown",
   "id": "b262b133-3e10-4aaa-9590-31a20bda2022",
   "metadata": {},
   "source": [
    "Calcular los tiempos usando NumPy con un bucle for y con np.sum"
   ]
  },
  {
   "cell_type": "code",
   "execution_count": 6,
   "id": "25955e16-c3df-4161-ac77-b450d39ca727",
   "metadata": {},
   "outputs": [
    {
     "name": "stdout",
     "output_type": "stream",
     "text": [
      "Time of the sum of an array of numbers using a for loop measured with time.time and %timeit:\n",
      "Time taken using a for loop with numpy array: 0.6648445129394531 seconds\n",
      "636 ms ± 11.9 ms per loop (mean ± std. dev. of 2 runs, 1 loop each)\n",
      "Time of the sum of an array of numbers using np.sum() measured with time.time and %timeit:\n",
      "Time taken using numpy.sum(): 0.0021216869354248047 seconds\n",
      "1.4 ms ± 2.74 µs per loop (mean ± std. dev. of 2 runs, 1,000 loops each)\n"
     ]
    }
   ],
   "source": [
    "# Importamos las librerias necesarias\n",
    "import time\n",
    "import numpy as np\n",
    "import sys\n",
    "\n",
    "# Defino una funcion que sume los elementos del array con un bucle for \n",
    "def sum_array_for(array):\n",
    "    total=0\n",
    "    for i in array:\n",
    "        total +=i\n",
    "    return total\n",
    "# Defino una funcion que sume el array usando np.sum(array)\n",
    "def sum_array_con_numpy_sum(array):\n",
    "    total=np.sum(array)\n",
    "    return total\n",
    "\n",
    "\n",
    "# Defino el numero \n",
    "N =1000000\n",
    "#N = int(sys.argv[1])\n",
    "lista=list(range(N))\n",
    "# Creating a 1D array\n",
    "array = np.array(lista)\n",
    "print(\"Time of the sum of an array of numbers using a for loop measured with time.time and %timeit:\")\n",
    "initialTime_array = time.time()\n",
    "sum_array_for(array)\n",
    "finalTime_array = time.time()\n",
    "print(\"Time taken using a for loop with numpy array:\", (finalTime_array - initialTime_array), \"seconds\")\n",
    "%timeit -r 2 sum_array_for(array)\n",
    "print(\"Time of the sum of an array of numbers using np.sum() measured with time.time and %timeit:\")\n",
    "initialTime_numpy = time.time()\n",
    "sum_array_con_numpy_sum(array)\n",
    "finalTime_numpy = time.time()\n",
    "print(\"Time taken using numpy.sum():\", (finalTime_numpy - initialTime_numpy), \"seconds\")\n",
    "%timeit -r 2 sum_array_con_numpy_sum(array)\n"
   ]
  },
  {
   "cell_type": "markdown",
   "id": "a7a1fb72-8404-4a9b-bdec-a31cb38b4e21",
   "metadata": {},
   "source": [
    "### Apartado 3.2 c)"
   ]
  },
  {
   "cell_type": "markdown",
   "id": "f14b5a6a-cd8a-4b33-9aca-4c7bd69c2e23",
   "metadata": {},
   "source": [
    "En el código original podemos ver la diferencia entre time.time() que mide la duración entre dos puntos de ejecución y la función mágica %timeit que nos muestra el tiempo promedio de las ejecuciones así como su desviación estándar por lo que es más representativo del rendimiento del código.\n",
    "\n",
    "En el apartado donde trabajamos con listas, vemos que el tiempo utilizando un bucle for es mucho mayor, de hecho vemos que la función sum es bastante más rápida. Esto es debido a que la función sum está optimizada en C dentro de Python y, por el contrario, el bucle for debe ser interpretado en Python.\n",
    "\n",
    "En el apartado donde trabajamos con arrays numpy, vemos que sumar manualmente con un bucle for los elementos de un array es unas 500 veces más lento aproximadamente que hacerlo con np.sum(). Esto se debe a que np.sum() es una función universal de numpy y, por tanto, es una funcion optimizada para operar con arrays de numpy de manera vectorizada usando implementaciones de C. Usar un bucle for con arrays de numpy no es una buena idea porque pierde las ventajas principales de numpy, que son las operaciones vectorizadas y la gestión eficiente de datos en memoria contigua, diseñadas para evitar iteraciones manuales. Comparado con sumar elementos en una lista como vemos en el apartado anterior usando un bucle for, el tiempo con numpy puede ser aún mayor debido al overhead adicional que implica acceder a los elementos de un array de numpy desde Python.\n",
    "Por tanto, vemos que para poder optimizar esta función la mejor idea sería utilizar arrays de numpy y, además, utilizar una función universal como vemos en el apartado final."
   ]
  }
 ],
 "metadata": {
  "kernelspec": {
   "display_name": "Python 3 (ipykernel)",
   "language": "python",
   "name": "python3"
  },
  "language_info": {
   "codemirror_mode": {
    "name": "ipython",
    "version": 3
   },
   "file_extension": ".py",
   "mimetype": "text/x-python",
   "name": "python",
   "nbconvert_exporter": "python",
   "pygments_lexer": "ipython3",
   "version": "3.10.9"
  }
 },
 "nbformat": 4,
 "nbformat_minor": 5
}
