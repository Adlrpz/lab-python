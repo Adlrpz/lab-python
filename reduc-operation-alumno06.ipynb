{
 "cells": [
  {
   "cell_type": "markdown",
   "id": "f942d288-be01-42cd-9b84-83529c6769be",
   "metadata": {},
   "source": [
    "### Reduction operation: the sum of the numbers in the range [0, a)"
   ]
  },
  {
   "cell_type": "code",
   "execution_count": 16,
   "id": "496946fa-2a28-4c1d-8a6a-2ee0b8fd8ced",
   "metadata": {},
   "outputs": [
    {
     "name": "stdout",
     "output_type": "stream",
     "text": [
      "Time taken by reduction operation: 0.287644624710083 seconds\n",
      "266 ms ± 2.14 ms per loop (mean ± std. dev. of 2 runs, 1 loop each)\n",
      "\n",
      " \t Computing the sum of numbers in the range [0, value): 499999500000\n",
      "\n"
     ]
    }
   ],
   "source": [
    "import time\n",
    "\n",
    "def reduc_operation(a):\n",
    "    \"\"\"Compute the sum of the numbers in the range [0, a).\"\"\"\n",
    "    x = 0\n",
    "    for i in range(a):\n",
    "        x += i\n",
    "    return x\n",
    "\n",
    "# Secuencial\n",
    "\n",
    "value = 1000000\n",
    "\n",
    "initialTime = time.time()\n",
    "suma = reduc_operation(value)\n",
    "finalTime = time.time()\n",
    "\n",
    "print(\"Time taken by reduction operation:\", (finalTime - initialTime), \"seconds\")\n",
    "\n",
    "# Utilizando las operaciones mágicas de ipython\n",
    "%timeit -r 2 reduc_operation(value)\n",
    "\n",
    "print(f\"\\n \\t Computing the sum of numbers in the range [0, value): {suma}\\n\")"
   ]
  },
  {
   "cell_type": "markdown",
   "id": "9f5fbc2e-0661-44a4-8171-1fe533b4b838",
   "metadata": {},
   "source": [
    "Apartado 3.2 a) Ver el tiempo que se tarda en sumar todos los elementos de la lista usando bucles for y usando la funcion sum"
   ]
  },
  {
   "cell_type": "code",
   "execution_count": 17,
   "id": "669c9858-f657-4ef4-9642-5555ebf46594",
   "metadata": {},
   "outputs": [
    {
     "name": "stdout",
     "output_type": "stream",
     "text": [
      "Time taken using a for loop: 0.20496463775634766 seconds\n",
      "208 ms ± 9.16 ms per loop (mean ± std. dev. of 2 runs, 1 loop each)\n",
      "Time taken using sum: 0.03203606605529785 seconds\n",
      "31.3 ms ± 1.19 ms per loop (mean ± std. dev. of 2 runs, 10 loops each)\n"
     ]
    }
   ],
   "source": [
    "# Primero importamos la time\n",
    "import time\n",
    "\n",
    "# Definimos una funcion que sume los elementos de la lista \n",
    "def suma_con_for(lista):\n",
    "    total_suma=0\n",
    "    for i in lista:\n",
    "        total_suma+=i\n",
    "    return total_suma\n",
    "\n",
    "# Definimos una funcion que sume los elementos de una lista con sum\n",
    "def suma_con_sum(lista):\n",
    "    total_sum=sum(lista)\n",
    "    return total_sum\n",
    "\n",
    "# Defino el numero \n",
    "valor=1000000\n",
    "lista=list(range(valor))\n",
    "\n",
    "# Calculo los tiempos \n",
    "\n",
    "initialTime = time.time()\n",
    "suma_1 = suma_con_for(lista)\n",
    "finalTime = time.time()\n",
    "print(\"Time taken using a for loop:\", (finalTime - initialTime), \"seconds\")\n",
    "# Utilizando las operaciones mágicas de ipython\n",
    "%timeit -r 2 suma_con_for(lista)\n",
    "\n",
    "initialTime = time.time()\n",
    "suma_2 = suma_con_sum(lista)\n",
    "finalTime = time.time()\n",
    "print(\"Time taken using sum:\", (finalTime - initialTime), \"seconds\")\n",
    "%timeit -r 2 suma_con_sum(lista)"
   ]
  },
  {
   "cell_type": "markdown",
   "id": "918c64e5-e651-4915-93c9-cdc6f2a61230",
   "metadata": {},
   "source": [
    "Apartado 3.2 b) Calcular los tiempos usando numpy con bucle for y sum"
   ]
  },
  {
   "cell_type": "code",
   "execution_count": 18,
   "id": "44a21147-43c4-460c-ab79-60c7e906f895",
   "metadata": {},
   "outputs": [
    {
     "name": "stdout",
     "output_type": "stream",
     "text": [
      "Time taken using a for loop with numpy array: 0.6787478923797607 seconds\n",
      "701 ms ± 9.51 ms per loop (mean ± std. dev. of 2 runs, 1 loop each)\n",
      "Time taken using numpy.sum(): 0.0019295215606689453 seconds\n",
      "1.37 ms ± 5.14 µs per loop (mean ± std. dev. of 2 runs, 1,000 loops each)\n"
     ]
    }
   ],
   "source": [
    "# Importamos time y numpy\n",
    "import time\n",
    "import numpy as np\n",
    "\n",
    "# Defino una funcion que sume los elementos del array con un bucle for \n",
    "def sum_array_for(array):\n",
    "    total=0\n",
    "    for i in array:\n",
    "        total +=i\n",
    "    return total\n",
    "# Defino una funcion que sume el array usando np.sum(array)\n",
    "def sum_array_con_numpy_sum(array):\n",
    "    total=np.sum(array)\n",
    "    return total\n",
    "\n",
    "\n",
    "# Defino el numero \n",
    "valor=1000000\n",
    "lista=list(range(valor))\n",
    "# Creating a 1D array\n",
    "array = np.array(lista)\n",
    "\n",
    "initialTime = time.time()\n",
    "suma_3 = sum_array_for(array)\n",
    "finalTime = time.time()\n",
    "print(\"Time taken using a for loop with numpy array:\", (finalTime - initialTime), \"seconds\")\n",
    "%timeit -r 2 sum_array_for(array)\n",
    "\n",
    "initialTime = time.time()\n",
    "suma_4 = sum_array_con_numpy_sum(array)\n",
    "finalTime = time.time()\n",
    "print(\"Time taken using numpy.sum():\", (finalTime - initialTime), \"seconds\")\n",
    "%timeit -r 2 sum_array_con_numpy_sum(array)"
   ]
  },
  {
   "cell_type": "markdown",
   "id": "751d9807-a4e5-41d0-a13a-b3a394a4cbbd",
   "metadata": {},
   "source": [
    "Apartado 3.2 c)\n",
    "En el código original podemos ver la diferencia entre time.time() que mide la duración entre dos puntos de ejecución y la función mágica %timeit que nos muestra el tiempo promedio de las ejecuciones así como su desviación estándar por lo que es más representativo del rendimiento del código\n",
    "En el apartado donde trabajamos con listas, vemos que el tiempo utilizando un bucle for es mucho mayor, de hecho vemos que la función sum es aprox. 6.8 veces más rápida. Esto es debido a que la función sum está optimizada en C dentro de Python y, por el contrario, el bucle for debe ser interpretado en Python.\n",
    "En el apartado donde trabajamos con arrays numpy, vemos que sumar manualmente con un bucle for los elementos de un array es 486 veces más lento aproximadamente que hacerlo con np.sum(). Esto se debe a que np.sum() es una función universal de numpy, y por tanto es una funcion optimizada para operar con arrays de numpy de manera vectorizada usando implementaciones de C. Usar un bucle for con arrays de numpy no es una buena idea porque pierde las ventajas principales de numpy, que son las operaciones vectorizadas y la gestión eficiente de datos en memoria contigua, diseñadas para evitar iteraciones manuales. Comparado con sumar elementos en una lista como vemos en el apartado anterior usando un bucle for, el tiempo con numpy puede ser aún mayor debido al overhead adicional que implica acceder a los elementos de un array de numpy desde Python.\n",
    "Por tanto, vemos que para poder optimizar esta función la mejor idea sería utilizar arrays de numpy y, además, utilizar una función universal como vemos en el apartado final."
   ]
  },
  {
   "cell_type": "code",
   "execution_count": null,
   "id": "96c7e687-299d-42a2-8b85-2c5cdc796659",
   "metadata": {},
   "outputs": [],
   "source": []
  }
 ],
 "metadata": {
  "kernelspec": {
   "display_name": "Python 3 (ipykernel)",
   "language": "python",
   "name": "python3"
  },
  "language_info": {
   "codemirror_mode": {
    "name": "ipython",
    "version": 3
   },
   "file_extension": ".py",
   "mimetype": "text/x-python",
   "name": "python",
   "nbconvert_exporter": "python",
   "pygments_lexer": "ipython3",
   "version": "3.10.9"
  }
 },
 "nbformat": 4,
 "nbformat_minor": 5
}
