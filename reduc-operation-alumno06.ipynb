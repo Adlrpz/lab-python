{
 "cells": [
  {
   "cell_type": "markdown",
   "id": "f942d288-be01-42cd-9b84-83529c6769be",
   "metadata": {},
   "source": [
    "### Reduction operation: the sum of the numbers in the range [0, a)"
   ]
  },
  {
   "cell_type": "code",
   "execution_count": 5,
   "id": "496946fa-2a28-4c1d-8a6a-2ee0b8fd8ced",
   "metadata": {},
   "outputs": [
    {
     "name": "stdout",
     "output_type": "stream",
     "text": [
      "Time taken by reduction operation: 0.27259325981140137 seconds\n",
      "259 ms ± 1.28 ms per loop (mean ± std. dev. of 2 runs, 1 loop each)\n",
      "\n",
      " \t Computing the sum of numbers in the range [0, value): 499999500000\n",
      "\n"
     ]
    }
   ],
   "source": [
    "import time\n",
    "import sys\n",
    "\n",
    "def reduc_operation(a):\n",
    "    \"\"\"Compute the sum of the numbers in the range [0, a).\"\"\"\n",
    "    x = 0\n",
    "    for i in range(a):\n",
    "        x += i\n",
    "    return x\n",
    "\n",
    "# Secuencial\n",
    "\n",
    "#value = 1000000\n",
    "N = int(sys.argv[1])\n",
    "\n",
    "initialTime = time.time()\n",
    "suma = reduc_operation(N)\n",
    "finalTime = time.time()\n",
    "\n",
    "print(\"Time taken by reduction operation:\", (finalTime - initialTime), \"seconds\")\n",
    "\n",
    "# Utilizando las operaciones mágicas de ipython\n",
    "%timeit -r 2 reduc_operation(N)\n",
    "\n",
    "print(f\"\\n \\t Computing the sum of numbers in the range [0, value): {suma}\\n\")"
   ]
  },
  {
   "cell_type": "markdown",
   "id": "4bf28ac2-7e10-4378-bbf9-c8cc9da4e651",
   "metadata": {},
   "source": [
    "### Apartado 3.2 a)"
   ]
  },
  {
   "cell_type": "markdown",
   "id": "9f5fbc2e-0661-44a4-8171-1fe533b4b838",
   "metadata": {},
   "source": [
    "Apartado 3.2 a) Ver el tiempo que se tarda en sumar todos los elementos de la lista usando bucles for y usando la funcion sum"
   ]
  },
  {
   "cell_type": "code",
   "execution_count": 6,
   "id": "669c9858-f657-4ef4-9642-5555ebf46594",
   "metadata": {},
   "outputs": [
    {
     "name": "stdout",
     "output_type": "stream",
     "text": [
      "Time taken using a for loop: 0.22977757453918457 seconds\n",
      "202 ms ± 175 µs per loop (mean ± std. dev. of 2 runs, 1 loop each)\n",
      "Time taken using sum: 0.03136277198791504 seconds\n",
      "30.3 ms ± 4.32 µs per loop (mean ± std. dev. of 2 runs, 10 loops each)\n"
     ]
    }
   ],
   "source": [
    "# Primero importamos la time\n",
    "import time\n",
    "import sys\n",
    "\n",
    "# Definimos una funcion que sume los elementos de la lista \n",
    "def suma_con_for(lista):\n",
    "    total_suma=0\n",
    "    for i in lista:\n",
    "        total_suma+=i\n",
    "    return total_suma\n",
    "\n",
    "# Definimos una funcion que sume los elementos de una lista con sum\n",
    "def suma_con_sum(lista):\n",
    "    total_sum=sum(lista)\n",
    "    return total_sum\n",
    "\n",
    "# Defino el numero \n",
    "#valor=1000000\n",
    "N = int(sys.argv[1])\n",
    "lista=list(range(N))\n",
    "\n",
    "# Calculo los tiempos \n",
    "\n",
    "initialTime = time.time()\n",
    "suma_1 = suma_con_for(lista)\n",
    "finalTime = time.time()\n",
    "print(\"Time taken using a for loop:\", (finalTime - initialTime), \"seconds\")\n",
    "# Utilizando las operaciones mágicas de ipython\n",
    "%timeit -r 2 suma_con_for(lista)\n",
    "\n",
    "initialTime = time.time()\n",
    "suma_2 = suma_con_sum(lista)\n",
    "finalTime = time.time()\n",
    "print(\"Time taken using sum:\", (finalTime - initialTime), \"seconds\")\n",
    "%timeit -r 2 suma_con_sum(lista)"
   ]
  },
  {
   "cell_type": "markdown",
   "id": "85cfedea-5fad-4d90-8552-1bf19ed1c33e",
   "metadata": {},
   "source": [
    "### Apartado 3.2 b)"
   ]
  },
  {
   "cell_type": "markdown",
   "id": "918c64e5-e651-4915-93c9-cdc6f2a61230",
   "metadata": {},
   "source": [
    "Apartado 3.2 b) Calcular los tiempos usando numpy con bucle for y sum"
   ]
  },
  {
   "cell_type": "code",
   "execution_count": 7,
   "id": "44a21147-43c4-460c-ab79-60c7e906f895",
   "metadata": {},
   "outputs": [
    {
     "name": "stdout",
     "output_type": "stream",
     "text": [
      "Time taken using a for loop with numpy array: 0.6770846843719482 seconds\n",
      "676 ms ± 133 µs per loop (mean ± std. dev. of 2 runs, 1 loop each)\n",
      "Time taken using numpy.sum(): 0.0020987987518310547 seconds\n",
      "1.39 ms ± 755 ns per loop (mean ± std. dev. of 2 runs, 1,000 loops each)\n"
     ]
    }
   ],
   "source": [
    "# Importamos time y numpy\n",
    "import time\n",
    "import numpy as np\n",
    "import sys\n",
    "\n",
    "# Defino una funcion que sume los elementos del array con un bucle for \n",
    "def sum_array_for(array):\n",
    "    total=0\n",
    "    for i in array:\n",
    "        total +=i\n",
    "    return total\n",
    "# Defino una funcion que sume el array usando np.sum(array)\n",
    "def sum_array_con_numpy_sum(array):\n",
    "    total=np.sum(array)\n",
    "    return total\n",
    "\n",
    "\n",
    "# Defino el numero \n",
    "#valor=1000000\n",
    "N = int(sys.argv[1])\n",
    "lista=list(range(N))\n",
    "# Creating a 1D array\n",
    "array = np.array(lista)\n",
    "\n",
    "initialTime = time.time()\n",
    "suma_3 = sum_array_for(array)\n",
    "finalTime = time.time()\n",
    "print(\"Time taken using a for loop with numpy array:\", (finalTime - initialTime), \"seconds\")\n",
    "%timeit -r 2 sum_array_for(array)\n",
    "\n",
    "initialTime = time.time()\n",
    "suma_4 = sum_array_con_numpy_sum(array)\n",
    "finalTime = time.time()\n",
    "print(\"Time taken using numpy.sum():\", (finalTime - initialTime), \"seconds\")\n",
    "%timeit -r 2 sum_array_con_numpy_sum(array)"
   ]
  },
  {
   "cell_type": "markdown",
   "id": "2cee1e56-252e-4982-a55c-f97c05fbaf25",
   "metadata": {},
   "source": [
    "### Apartado 3.2 c)"
   ]
  },
  {
   "cell_type": "markdown",
   "id": "751d9807-a4e5-41d0-a13a-b3a394a4cbbd",
   "metadata": {},
   "source": [
    "En el código original podemos ver la diferencia entre time.time() que mide la duración entre dos puntos de ejecución y la función mágica %timeit que nos muestra el tiempo promedio de las ejecuciones así como su desviación estándar por lo que es más representativo del rendimiento del código.\n",
    "\n",
    "En el apartado donde trabajamos con listas, vemos que el tiempo utilizando un bucle for es mucho mayor, de hecho vemos que la función sum es bastante más rápida. Esto es debido a que la función sum está optimizada en C dentro de Python y, por el contrario, el bucle for debe ser interpretado en Python.\n",
    "\n",
    "En el apartado donde trabajamos con arrays numpy, vemos que sumar manualmente con un bucle for los elementos de un array es unas 500 veces más lento aproximadamente que hacerlo con np.sum(). Esto se debe a que np.sum() es una función universal de numpy y, por tanto, es una funcion optimizada para operar con arrays de numpy de manera vectorizada usando implementaciones de C. Usar un bucle for con arrays de numpy no es una buena idea porque pierde las ventajas principales de numpy, que son las operaciones vectorizadas y la gestión eficiente de datos en memoria contigua, diseñadas para evitar iteraciones manuales. Comparado con sumar elementos en una lista como vemos en el apartado anterior usando un bucle for, el tiempo con numpy puede ser aún mayor debido al overhead adicional que implica acceder a los elementos de un array de numpy desde Python.\n",
    "Por tanto, vemos que para poder optimizar esta función la mejor idea sería utilizar arrays de numpy y, además, utilizar una función universal como vemos en el apartado final."
   ]
  },
  {
   "cell_type": "markdown",
   "id": "e06d69c0-8476-435a-8b24-7e8b4e376bb2",
   "metadata": {},
   "source": [
    "### Apartado 3.3 a)"
   ]
  },
  {
   "cell_type": "markdown",
   "id": "e35006d0-5401-4c7c-b49b-0547a1cca471",
   "metadata": {},
   "source": [
    "Vamos a acelerar los tiempos de ejecución utilizando el paquete Numba "
   ]
  },
  {
   "cell_type": "code",
   "execution_count": 8,
   "id": "f711ab39-d16e-40e2-a163-0560d2b81a09",
   "metadata": {},
   "outputs": [
    {
     "name": "stdout",
     "output_type": "stream",
     "text": [
      "Time taken using a for loop with numpy array with numba: 0.484757661819458 seconds\n",
      "1.48 ms ± 6.81 µs per loop (mean ± std. dev. of 2 runs, 1,000 loops each)\n",
      "Time taken using numpy.sum() with numba: 0.45430469512939453 seconds\n",
      "988 µs ± 2.94 µs per loop (mean ± std. dev. of 2 runs, 1,000 loops each)\n"
     ]
    }
   ],
   "source": [
    "# Importamos todas las librerias necesarias\n",
    "import time\n",
    "import numpy as np\n",
    "from numba import njit\n",
    "import sys\n",
    "\n",
    "# Defino una funcion que sume los elementos del array con un bucle for y la decoramos con @njit\n",
    "@njit\n",
    "def sum_array_for_numba(array):\n",
    "    total=0\n",
    "    for i in array:\n",
    "        total +=i\n",
    "    return total\n",
    "# Defino una funcion que sume el array usando np.sum(array) y la decoro con @njit\n",
    "@njit\n",
    "def sum_array_con_numpy_sum_numba(array):\n",
    "    total=np.sum(array)\n",
    "    return total\n",
    "\n",
    "\n",
    "# Defino el numero \n",
    "#valor=1000000\n",
    "N = int(sys.argv[1])\n",
    "lista=list(range(N))\n",
    "# Creating a 1D array\n",
    "array = np.array(lista)\n",
    "\n",
    "initialTime = time.time()\n",
    "suma_5 = sum_array_for_numba(array)\n",
    "finalTime = time.time()\n",
    "print(\"Time taken using a for loop with numpy array with numba:\", (finalTime - initialTime), \"seconds\")\n",
    "%timeit -r 2 sum_array_for_numba(array)\n",
    "\n",
    "initialTime = time.time()\n",
    "suma_6 = sum_array_con_numpy_sum_numba(array)\n",
    "finalTime = time.time()\n",
    "print(\"Time taken using numpy.sum() with numba:\", (finalTime - initialTime), \"seconds\")\n",
    "%timeit -r 2 sum_array_con_numpy_sum_numba(array)"
   ]
  },
  {
   "cell_type": "markdown",
   "id": "d855711b-14ff-4385-8079-fc3284860ded",
   "metadata": {},
   "source": [
    "### Apartado 3.3 b)"
   ]
  },
  {
   "cell_type": "markdown",
   "id": "e2d640fa-81d2-4f4e-8ad2-d46c4d327ffb",
   "metadata": {},
   "source": [
    "Como podemos observar en los resultados, el tiempo medido con time.time no resulta muy fiable, ya que incluye el tiempo de compilación inicial de numba, lo que explica la discrepancia con respecto a %timeit, que descarta dicha compilación y mide únicamente las ejecuciones optimizadas. \n",
    "Si comparamos los tiempos usando %timeit, podemos ver que la suma de cada elemento del array con un bucle for mejora considerablemente al usar numba, ya que convierte el bucle lento en python puro en código máquina altamente optimizado. Ya que, como vimos anteriormente, usar un bucle for y numpy no era buena idea, sin embargo, gracias a la decoración conseguimos optimizar este proceso. Lo mismo ocurre con la función np.sum, que ya era rápida al ser parte de numpy, pero al combinarla con numba, se reduce aún más el tiempo de ejecución.\n",
    "En conclusión, estos resultados demuestran que numba es particularmente útil en operaciones basadas en bucles explícitos o funciones complejas que aprovechan numpy, optimizando significativamente su rendimiento y reduciendo los tiempos incluso en operaciones ya optimizadas."
   ]
  }
 ],
 "metadata": {
  "kernelspec": {
   "display_name": "Python 3 (ipykernel)",
   "language": "python",
   "name": "python3"
  },
  "language_info": {
   "codemirror_mode": {
    "name": "ipython",
    "version": 3
   },
   "file_extension": ".py",
   "mimetype": "text/x-python",
   "name": "python",
   "nbconvert_exporter": "python",
   "pygments_lexer": "ipython3",
   "version": "3.10.9"
  }
 },
 "nbformat": 4,
 "nbformat_minor": 5
}
