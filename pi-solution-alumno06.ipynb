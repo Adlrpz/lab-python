{
 "cells": [
  {
   "cell_type": "markdown",
   "id": "d7a86bcf-8649-4355-b91a-8407283008a4",
   "metadata": {},
   "source": [
    "### Ejercicio 3.4 optimizado"
   ]
  },
  {
   "cell_type": "markdown",
   "id": "ccdf3826-900d-4f8d-bdaf-5631f23bcd4d",
   "metadata": {},
   "source": [
    "Primero se calcula el tiempo sin optimizar como se muestra en la siguiente celda"
   ]
  },
  {
   "cell_type": "code",
   "execution_count": null,
   "id": "25a32f2c-a642-4f81-8623-5a54df3ace49",
   "metadata": {},
   "outputs": [],
   "source": [
    "import random\n",
    "import sys\n",
    "\n",
    "def calc_pi(N):\n",
    "    M = 0\n",
    "    for i in range(N):\n",
    "    # Simulate impact coordinates\n",
    "        x = random.uniform(-1, 1)\n",
    "        y = random.uniform(-1, 1)\n",
    "    # True if impact happens inside the circle\n",
    "        if x**2 + y**2 < 1.0:\n",
    "            M += 1\n",
    "    return 4 * M / N\n",
    "\n",
    "\n",
    "#num_trials = 10**7\n",
    "num_trials = int(sys.argv[1])\n",
    "\n",
    "pi = calc_pi(num_trials)\n",
    "\n",
    "print(\"\\n \\t Computing pi in serial: \\n\")\n",
    "print(\"\\t For %d trials, pi = %f\\n\" % (num_trials,pi))\n",
    "print(\"Tiempo sin optimizar con %timeit:\")\n",
    "%timeit -r3 calc_pi(num_trials)"
   ]
  },
  {
   "cell_type": "markdown",
   "id": "4376a3d9-5405-4440-aad0-665c16174df7",
   "metadata": {},
   "source": [
    "Código mejorado utilizando los array numpy y numba"
   ]
  },
  {
   "cell_type": "code",
   "execution_count": null,
   "id": "32345cf3-5133-4f99-a291-a0b25c36cfb4",
   "metadata": {},
   "outputs": [],
   "source": [
    "import numpy as np\n",
    "from numba import njit\n",
    "import sys\n",
    "\n",
    "@njit\n",
    "def calc_pi_numba(N):\n",
    "    np.random.seed(0)  \n",
    "    # Aqui fijo la semilla para reproducibilidad\n",
    "    # Generar puntos aleatorios: \n",
    "    x = np.random.uniform(-1, 1, N)\n",
    "    y = np.random.uniform(-1, 1, N)\n",
    "    # Cuento los puntos que caen dentro del circulo \n",
    "    M = np.sum(x**2 + y**2 < 1.0)\n",
    "    return 4 * M / N\n",
    "\n",
    "# num_trials=100\n",
    "num_trials = int(sys.argv[1])\n",
    "\n",
    "# Ahora calculamos el numero pi\n",
    "pi = calc_pi_numba(num_trials)\n",
    "\n",
    "print(\"\\n \\t Computing pi in serial: \\n\")\n",
    "print(\"\\t For %d trials, pi = %f\\n\" % (num_trials,pi))\n",
    "print(\"Tiempo optimizado con %timeit:\")\n",
    "%timeit -r3 calc_pi_numba(num_trials)"
   ]
  },
  {
   "cell_type": "markdown",
   "id": "933c7514-b0fb-4d80-ac49-dbeb24b11e81",
   "metadata": {},
   "source": [
    "En la siguiente celda se calcula la aceleración usando la función time.time() y viendo la diferencia entre ambos códigos"
   ]
  },
  {
   "cell_type": "code",
   "execution_count": null,
   "id": "8be9ca8d-30e8-47d3-af96-b5a26fb23fc2",
   "metadata": {},
   "outputs": [],
   "source": [
    "import time\n",
    "import numpy as np\n",
    "\n",
    "# Versión inicial (sin optimizar) con time.time()\n",
    "start_time_initial = time.time()\n",
    "num_trials = int(sys.argv[1])\n",
    "pi_initial = calc_pi(num_trials) \n",
    "end_time_initial = time.time()\n",
    "time_initial = end_time_initial - start_time_initial\n",
    "print(f\"Tiempo de ejecución sin optimizar con time.time(): {time_initial:.4f} segundos\")\n",
    "\n",
    "# Versión optimizada\n",
    "start_time_optimized = time.time()\n",
    "pi_optimized = calc_pi_numba(num_trials) \n",
    "end_time_optimized = time.time()\n",
    "time_optimized = end_time_optimized - start_time_optimized\n",
    "print(f\"Tiempo de ejecución optimizada con time.time(): {time_optimized:.4f} segundos\")\n",
    "\n",
    "# Calculo la mejora de los tiempos haciendo la division entre el tiempo inicial y el optimizado\n",
    "acceleration_factor = time_initial / time_optimized\n",
    "print(f\"El factor de aceleración es: {acceleration_factor:.2f}X\")\n",
    "\n",
    "# Especificar la cola utilizada\n",
    "# Se la voy a pasar por argumento\n",
    "queue_used = sys.argv[2]  \n",
    "print(f\"Resultados ejecutados en la cola: {queue_used}\")"
   ]
  },
  {
   "cell_type": "markdown",
   "id": "872fbabf-c467-447c-9175-82ea58e568db",
   "metadata": {},
   "source": [
    "El resultado obtenido tras ejecutar en la cola de nikola ha sido el que comento a continuación:"
   ]
  },
  {
   "cell_type": "markdown",
   "id": "3135761c-eb82-4406-8a08-919f36a607c1",
   "metadata": {},
   "source": [
    "\n",
    " \t Computing pi in serial: \n",
    "\n",
    "\t For 10000000 trials, pi = 3.140941\n",
    "\n",
    "Tiempo sin optimizar con %timeit:\n",
    "4.55 s ± 11.4 ms per loop (mean ± std. dev. of 3 runs, 1 loop each)\n",
    "\n",
    " \t Computing pi in serial: \n",
    "\n",
    "\t For 10000000 trials, pi = 3.141290\n",
    "\n",
    "Tiempo optimizado con %timeit:\n",
    "91.5 ms ± 92.9 µs per loop (mean ± std. dev. of 3 runs, 10 loops each)\n",
    "Tiempo de ejecución sin optimizar con time.time(): 4.6865 segundos\n",
    "Tiempo de ejecución optimizada con time.time(): 0.0919 segundos\n",
    "El factor de aceleración es: 51.00X\n",
    "Resultados ejecutados en la cola: hpc-bio-nikola-cpu\n"
   ]
  },
  {
   "cell_type": "markdown",
   "id": "a9765d7b-072f-4a53-ac1e-c67021f4ebc3",
   "metadata": {},
   "source": [
    "Como podemos observar se ha obtenido un factor de aceleración de 51, lo cual es bastante considerable, tras haber aplicado arrays de numpy y decorando la función con numba"
   ]
  }
 ],
 "metadata": {
  "kernelspec": {
   "display_name": "Python 3 (ipykernel)",
   "language": "python",
   "name": "python3"
  },
  "language_info": {
   "codemirror_mode": {
    "name": "ipython",
    "version": 3
   },
   "file_extension": ".py",
   "mimetype": "text/x-python",
   "name": "python",
   "nbconvert_exporter": "python",
   "pygments_lexer": "ipython3",
   "version": "3.10.9"
  }
 },
 "nbformat": 4,
 "nbformat_minor": 5
}
